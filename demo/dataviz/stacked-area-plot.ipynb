{
 "cells": [
  {
   "cell_type": "code",
   "execution_count": null,
   "metadata": {},
   "outputs": [],
   "source": [
    "%load_ext autoreload"
   ]
  },
  {
   "cell_type": "code",
   "execution_count": 2,
   "metadata": {},
   "outputs": [],
   "source": [
    "%autoreload 2"
   ]
  },
  {
   "cell_type": "code",
   "execution_count": 7,
   "metadata": {},
   "outputs": [
    {
     "data": {
      "text/html": [
       "<script type=\"text/javascript\">window.PlotlyConfig = {MathJaxConfig: 'local'};</script><script type=\"text/javascript\">if (window.MathJax) {MathJax.Hub.Config({SVG: {font: \"STIX-Web\"}});}</script><script>requirejs.config({paths: { 'plotly': ['https://cdn.plot.ly/plotly-latest.min']},});if(!window._Plotly) {require(['plotly'],function(plotly) {window._Plotly=plotly;});}</script>"
      ]
     },
     "metadata": {},
     "output_type": "execute_result"
    },
    {
     "data": {
      "text/html": [
       "<div id=\"4b8872b1-52f2-4650-9e7c-34aaa54214f0\" style=\"height: 525px; width: 100%;\" class=\"plotly-graph-div\"></div><script type=\"text/javascript\">require([\"plotly\"], function(Plotly) { window.PLOTLYENV=window.PLOTLYENV || {};window.PLOTLYENV.BASE_URL=\"https://plot.ly\";Plotly.newPlot(\"4b8872b1-52f2-4650-9e7c-34aaa54214f0\", [{\"x\": [\"Week 1\", \"Week 2\", \"Week 3\", \"Week 4\"], \"y\": [100, 80, 50, 40], \"hoverinfo\": \"x+y\", \"mode\": \"lines\", \"line\": {\"width\": 0.5, \"color\": \"rgb(255,78,80)\"}, \"stackgroup\": \"one\", \"name\": \"Begin\"}, {\"x\": [\"Week 1\", \"Week 2\", \"Week 3\", \"Week 4\"], \"y\": [0, 10, 20, 10], \"hoverinfo\": \"x+y\", \"mode\": \"lines\", \"line\": {\"width\": 0.5, \"color\": \"rgb(252,145,58)\"}, \"stackgroup\": \"one\", \"name\": \"Stage 1\"}, {\"x\": [\"Week 1\", \"Week 2\", \"Week 3\", \"Week 4\"], \"y\": [0, 10, 20, 10], \"hoverinfo\": \"x+y\", \"mode\": \"lines\", \"line\": {\"width\": 0.5, \"color\": \"rgb(249,212,35)\"}, \"stackgroup\": \"one\", \"name\": \"Stage 2\"}, {\"x\": [\"Week 1\", \"Week 2\", \"Week 3\", \"Week 4\"], \"y\": [0, 0, 10, 40], \"hoverinfo\": \"x+y\", \"mode\": \"lines\", \"line\": {\"width\": 0.5, \"color\": \"rgb(225,245,196)\"}, \"stackgroup\": \"one\", \"name\": \"Done\"}], {}, {\"showLink\": false, \"linkText\": \"Export to plot.ly\", \"plotlyServerURL\": \"https://plot.ly\"})});</script><script type=\"text/javascript\">window.addEventListener(\"resize\", function(){window._Plotly.Plots.resize(document.getElementById(\"4b8872b1-52f2-4650-9e7c-34aaa54214f0\"));});</script>"
      ]
     },
     "metadata": {},
     "output_type": "execute_result"
    }
   ],
   "source": [
    "import plotly.plotly as py\n",
    "import plotly.graph_objs as go\n",
    "from plotly.offline import init_notebook_mode, iplot\n",
    "\n",
    "init_notebook_mode(connected=True)\n",
    "\n",
    "# Add original data\n",
    "x=['Week 1', 'Week 2', 'Week 3', 'Week 4']\n",
    "\n",
    "trace0 = dict(\n",
    "    x=x,\n",
    "    y=[100, 80, 50, 40],\n",
    "    hoverinfo='x+y',\n",
    "    mode='lines',\n",
    "    line=dict(width=0.5,\n",
    "              color='rgb(255,78,80)'),\n",
    "    stackgroup='one',\n",
    "    name = 'Begin'\n",
    ")\n",
    "trace1 = dict(\n",
    "    x=x,\n",
    "    y=[0, 10, 20, 10],\n",
    "    hoverinfo='x+y',\n",
    "    mode='lines',\n",
    "    line=dict(width=0.5,\n",
    "              color='rgb(252,145,58)'),\n",
    "    stackgroup='one',\n",
    "    name = 'Stage 1'\n",
    ")\n",
    "trace2 = dict(\n",
    "    x=x,\n",
    "    y=[0, 10, 20, 10],\n",
    "    hoverinfo='x+y',\n",
    "    mode='lines',\n",
    "    line=dict(width=0.5,\n",
    "              color='rgb(249,212,35)'),\n",
    "    stackgroup='one',\n",
    "    name = 'Stage 2'\n",
    ")\n",
    "trace3 = dict(\n",
    "    x=x,\n",
    "    y=[0, 0, 10, 40],\n",
    "    hoverinfo='x+y',\n",
    "    mode='lines',\n",
    "    line=dict(width=0.5,\n",
    "              color='rgb(225,245,196)'),\n",
    "    stackgroup='one',\n",
    "    name = 'Done'\n",
    ")\n",
    "\n",
    "data = [trace0, trace1, trace2, trace3]\n",
    "\n",
    "fig = dict(data=data)\n",
    "iplot(fig, filename='stacked-area-plot', validate=False)\n",
    "\n"
   ]
  },
  {
   "cell_type": "code",
   "execution_count": null,
   "metadata": {},
   "outputs": [],
   "source": []
  }
 ],
 "metadata": {
  "kernelspec": {
   "display_name": "Python 3",
   "language": "python",
   "name": "python3"
  },
  "language_info": {
   "codemirror_mode": {
    "name": "ipython",
    "version": 3
   },
   "file_extension": ".py",
   "mimetype": "text/x-python",
   "name": "python",
   "nbconvert_exporter": "python",
   "pygments_lexer": "ipython3",
   "version": "3.7.2"
  }
 },
 "nbformat": 4,
 "nbformat_minor": 2
}
